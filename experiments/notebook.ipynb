{
 "cells": [
  {
   "cell_type": "code",
   "execution_count": 135,
   "metadata": {},
   "outputs": [],
   "source": [
    "import pandas as pd\n",
    "import numpy as np\n",
    "\n",
    "from sklearn.ensemble import RandomForestClassifier\n",
    "from sklearn.model_selection import train_test_split\n",
    "from sklearn.metrics import accuracy_score, balanced_accuracy_score"
   ]
  },
  {
   "cell_type": "code",
   "execution_count": 136,
   "metadata": {},
   "outputs": [],
   "source": [
    "TEST_SIZE = 0.2\n",
    "IMPOSTOR_SUBJECT = 'other'"
   ]
  },
  {
   "cell_type": "code",
   "execution_count": 137,
   "metadata": {},
   "outputs": [],
   "source": [
    "cmu = pd.read_csv('datasets/cmu/DSL-StrongPasswordData.csv')\n",
    "drop_columns = ['subject', 'sessionIndex', 'rep']\n",
    "user_keys = set(cmu[\"subject\"].unique())"
   ]
  },
  {
   "cell_type": "code",
   "execution_count": null,
   "metadata": {},
   "outputs": [],
   "source": [
    "classifier = RandomForestClassifier()"
   ]
  },
  {
   "cell_type": "code",
   "execution_count": null,
   "metadata": {},
   "outputs": [],
   "source": [
    "# Divisão dos dados de treino e teste para cada usuário (80:20)\n",
    "\n",
    "user_training_vetors_map = {}\n",
    "user_test_vectors_map = {}\n",
    "\n",
    "for uk in user_keys:\n",
    "    user_samples = cmu[cmu['subject'] == uk].drop(columns=drop_columns)\n",
    "    user_training_vetors_map[uk], user_test_vectors_map[uk] = train_test_split(user_samples, test_size=TEST_SIZE)"
   ]
  },
  {
   "cell_type": "code",
   "execution_count": null,
   "metadata": {},
   "outputs": [],
   "source": [
    "one_class_estimators_map = {}\n",
    "\n",
    "for uk in user_keys:\n",
    "    training_vecs = user_training_vetors_map[uk]\n",
    "    target_subjects = [uk] * len(training_vecs)\n",
    "    one_class_estimators_map[uk] = classifier.fit(training_vecs, target_subjects)"
   ]
  },
  {
   "cell_type": "code",
   "execution_count": 140,
   "metadata": {},
   "outputs": [
    {
     "name": "stdout",
     "output_type": "stream",
     "text": [
      "Acurácia média dos modelos individuais, para exemplos dos próprios usuários: 100.0%\n"
     ]
    }
   ],
   "source": [
    "user_model_acc_on_genuine_samples_map = {}\n",
    "\n",
    "for uk in user_keys:\n",
    "    test_vecs = user_test_vectors_map[uk]\n",
    "    target_subjects = [uk] * len(test_vecs)\n",
    "    predicted_subjects = one_class_estimators_map[uk].predict(test_vecs)\n",
    "    user_model_acc_on_genuine_samples_map[uk] = accuracy_score(target_subjects, predicted_subjects)\n",
    "\n",
    "average_acc = np.average(list(user_model_acc_on_genuine_samples_map.values()))\n",
    "\n",
    "print(f\"Acurácia média dos modelos One-Vs-One: {average_acc * 100}%\")"
   ]
  },
  {
   "cell_type": "code",
   "execution_count": null,
   "metadata": {},
   "outputs": [],
   "source": [
    "# Criação de um modelo One-vs-Rest para cada usuário\n",
    "# Divisão dos dados: (80:20), sendo que em cada conjunto 50% dos dados são do \n",
    "# próprio usuário e 50% são registros aleatórios de outros usuários \n",
    "\n",
    "training_vectors_map = {}\n",
    "training_samples_target_subs_map = {}\n",
    "test_vectors_map = {}\n",
    "test_samples_target_subs_map = {}\n",
    "\n",
    "for uk in user_keys:\n",
    "    user_samples = cmu[cmu['subject'] == uk].drop(columns=drop_columns)\n",
    "    other_samples = cmu[cmu['subject'] != uk].drop(columns=drop_columns).sample(n=len(user_samples))\n",
    "    user_training_samples, user_test_samples = train_test_split(user_samples, test_size=TEST_SIZE)\n",
    "    others_training_samples, others_test_samples = train_test_split(other_samples, test_size=TEST_SIZE)\n",
    "    training_vectors_map[uk] = user_training_samples + others_training_samples\n",
    "    training_samples_target_subs_map[uk] = [uk] * len(user_training_samples) + [IMPOSTOR_SUBJECT] * len(others_training_samples)\n",
    "    test_vectors_map[uk] = user_test_samples + others_test_samples\n",
    "    test_samples_target_subs_map[uk] = [uk] * len(user_test_samples) + [IMPOSTOR_SUBJECT] * len(others_test_samples)"
   ]
  },
  {
   "cell_type": "code",
   "execution_count": null,
   "metadata": {},
   "outputs": [
    {
     "name": "stdout",
     "output_type": "stream",
     "text": [
      "Acurácia média dos modelos One-Vs-Rest para cada usuário: 0.5\n"
     ]
    }
   ],
   "source": [
    "two_class_estimators_map = {}\n",
    "two_class_acc_map = {}\n",
    "\n",
    "for uk in user_keys:\n",
    "    two_class_estimators_map[uk] = classifier.fit(training_vectors_map[uk], training_samples_target_subs_map[uk])\n",
    "\n",
    "for uk in user_keys:\n",
    "    test_samples, test_target_subjects = test_vectors_map[uk], test_samples_target_subs_map[uk]\n",
    "    predicted_subjects = two_class_estimators_map[uk].predict(test_samples)\n",
    "    two_class_acc_map[uk] = balanced_accuracy_score(test_target_subjects, predicted_subjects)\n",
    "\n",
    "print(f\"Acurácia média dos modelos One-Vs-Rest: {np.average(list(two_class_acc_map.values()))}\")"
   ]
  }
 ],
 "metadata": {
  "kernelspec": {
   "display_name": "Python 3",
   "language": "python",
   "name": "python3"
  },
  "language_info": {
   "codemirror_mode": {
    "name": "ipython",
    "version": 3
   },
   "file_extension": ".py",
   "mimetype": "text/x-python",
   "name": "python",
   "nbconvert_exporter": "python",
   "pygments_lexer": "ipython3",
   "version": "3.12.7"
  }
 },
 "nbformat": 4,
 "nbformat_minor": 2
}
