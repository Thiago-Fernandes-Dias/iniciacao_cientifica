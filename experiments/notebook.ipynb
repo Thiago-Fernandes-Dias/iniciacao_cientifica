{
 "cells": [
  {
   "cell_type": "code",
   "execution_count": 161,
   "metadata": {},
   "outputs": [],
   "source": [
    "import pandas as pd\n",
    "import numpy as np\n",
    "\n",
    "from sklearn.ensemble import RandomForestClassifier\n",
    "from sklearn.model_selection import train_test_split\n",
    "from sklearn.metrics import accuracy_score"
   ]
  },
  {
   "cell_type": "code",
   "execution_count": 162,
   "metadata": {},
   "outputs": [],
   "source": [
    "TEST_SIZE = 0.2\n",
    "IMPOSTOR_SUBJECT = 'other'"
   ]
  },
  {
   "cell_type": "code",
   "execution_count": 163,
   "metadata": {},
   "outputs": [],
   "source": [
    "cmu: pd.DataFrame = pd.read_csv('datasets/cmu/DSL-StrongPasswordData.csv')\n",
    "drop_columns = ['subject', 'sessionIndex', 'rep']\n",
    "user_keys: list[str] = cmu[\"subject\"].drop_duplicates().tolist()"
   ]
  },
  {
   "cell_type": "code",
   "execution_count": 164,
   "metadata": {},
   "outputs": [],
   "source": [
    "# Divisão dos dados de treino e teste para cada usuário (80:20)\n",
    "\n",
    "X1_training: dict[str, pd.DataFrame] = {}\n",
    "X1_test: dict[str, pd.DataFrame] = {}\n",
    "y1_training: dict[str, list[str]] = {}\n",
    "y1_test: dict[str, list[str]] = {}\n",
    "\n",
    "for uk in user_keys:\n",
    "    X = cmu[cmu['subject'] == uk].drop(columns=drop_columns)\n",
    "    y = [uk] * X.shape[0]\n",
    "    X1_training[uk], X1_test[uk], y1_training[uk], y1_test[uk] = train_test_split(X, y, test_size=TEST_SIZE, shuffle=False)"
   ]
  },
  {
   "cell_type": "code",
   "execution_count": 165,
   "metadata": {},
   "outputs": [],
   "source": [
    "one_class_estimators_map: dict[str, RandomForestClassifier] = {}\n",
    "\n",
    "for uk in user_keys:\n",
    "    one_class_estimators_map[uk] = RandomForestClassifier().fit(X1_training[uk], y1_training[uk])"
   ]
  },
  {
   "cell_type": "code",
   "execution_count": 166,
   "metadata": {},
   "outputs": [
    {
     "name": "stdout",
     "output_type": "stream",
     "text": [
      "Acurácia média dos modelos One-Vs-One: 100.0%\n"
     ]
    }
   ],
   "source": [
    "user_model_acc_on_genuine_samples_map: dict[str, float] = {}\n",
    "\n",
    "for uk in user_keys:\n",
    "    predictions = one_class_estimators_map[uk].predict(X1_test[uk])\n",
    "    user_model_acc_on_genuine_samples_map[uk] = accuracy_score(y1_test[uk], predictions)\n",
    "\n",
    "average_acc = np.average(list(user_model_acc_on_genuine_samples_map.values())) * 100\n",
    "\n",
    "print(f\"Acurácia média dos modelos One-Vs-One: {average_acc}%\")"
   ]
  },
  {
   "cell_type": "code",
   "execution_count": 167,
   "metadata": {},
   "outputs": [],
   "source": [
    "# Criação de um modelo One-vs-Rest para cada usuário\n",
    "# Divisão dos dados: (80:20), sendo que em cada conjunto 50% dos dados são do \n",
    "# próprio usuário e 50% são registros aleatórios de outros usuários \n",
    "\n",
    "X_user_training: dict[str, pd.DataFrame] = {}\n",
    "X_user_test: dict[str, pd.DataFrame] = {}\n",
    "y_user_training: dict[str, list[str]] = {}\n",
    "y_user_test: dict[str, list[str]] = {}\n",
    "X_other_training: dict[str, pd.DataFrame] = {}\n",
    "X_other_test: dict[str, pd.DataFrame] = {}\n",
    "y_other_training: dict[str, list[str]] = {}\n",
    "y_other_test: dict[str, list[str]] = {}\n",
    "\n",
    "for uk in user_keys:\n",
    "    user_rows = cmu[cmu['subject'] == uk]\n",
    "    X_user = user_rows.drop(columns=drop_columns) \n",
    "    y_user = [uk] * X_user.shape[0]\n",
    "    other_rows = cmu[cmu['subject'] != uk].sample(n=X_user.shape[0])\n",
    "    X_other = other_rows.drop(columns=drop_columns)\n",
    "    y_other = [IMPOSTOR_SUBJECT] * X_other.shape[0]\n",
    "    X_user_training[uk], X_user_test[uk] = train_test_split(X_user, test_size=TEST_SIZE, shuffle=False)\n",
    "    y_user_training[uk], y_user_test[uk] = train_test_split(y_user, test_size=TEST_SIZE, shuffle=False)\n",
    "    X_other_training[uk], X_other_test[uk] = train_test_split(X_other, test_size=TEST_SIZE, shuffle=False)\n",
    "    y_other_training[uk], y_other_test[uk] = train_test_split(y_other, test_size=TEST_SIZE, shuffle=False)"
   ]
  },
  {
   "cell_type": "code",
   "execution_count": 168,
   "metadata": {},
   "outputs": [
    {
     "name": "stdout",
     "output_type": "stream",
     "text": [
      "Acurácia média dos modelos One-Vs-Rest: 95.56372549019608%\n"
     ]
    }
   ],
   "source": [
    "two_class_estimators_map: dict[str, RandomForestClassifier] = {}\n",
    "two_class_acc_map: dict[str, float] = {}\n",
    "\n",
    "for uk in user_keys:\n",
    "    X = pd.concat([X_user_training[uk],X_other_training[uk]])\n",
    "    y = y_user_training[uk] + y_other_training[uk]\n",
    "    two_class_estimators_map[uk] = RandomForestClassifier().fit(X, y)\n",
    "\n",
    "for uk in user_keys:\n",
    "    X_test = pd.concat([X_user_test[uk], X_other_test[uk]])\n",
    "    predictions = two_class_estimators_map[uk].predict(X_test)\n",
    "    y_true = y_user_test[uk] + y_other_test[uk]\n",
    "    two_class_acc_map[uk] = accuracy_score(y_true, predictions)\n",
    "\n",
    "average_acc = np.average(list(two_class_acc_map.values())) * 100\n",
    "\n",
    "print(f\"Acurácia média dos modelos One-Vs-Rest: {average_acc}%\")"
   ]
  }
 ],
 "metadata": {
  "kernelspec": {
   "display_name": "Python 3",
   "language": "python",
   "name": "python3"
  },
  "language_info": {
   "codemirror_mode": {
    "name": "ipython",
    "version": 3
   },
   "file_extension": ".py",
   "mimetype": "text/x-python",
   "name": "python",
   "nbconvert_exporter": "python",
   "pygments_lexer": "ipython3",
   "version": "3.12.7"
  }
 },
 "nbformat": 4,
 "nbformat_minor": 2
}
