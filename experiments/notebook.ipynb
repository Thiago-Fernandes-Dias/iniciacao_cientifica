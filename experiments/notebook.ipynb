{
 "cells": [
  {
   "cell_type": "code",
   "execution_count": 35,
   "metadata": {},
   "outputs": [],
   "source": [
    "import pandas as pd\n",
    "import numpy as np\n",
    "\n",
    "from sklearn.ensemble import RandomForestClassifier\n",
    "from sklearn.svm import OneClassSVM\n",
    "from sklearn.metrics import balanced_accuracy_score"
   ]
  },
  {
   "cell_type": "code",
   "execution_count": 36,
   "metadata": {},
   "outputs": [],
   "source": [
    "TEST_SIZE = 0.2\n",
    "IMPOSTOR_SUBJECT = 'other'"
   ]
  },
  {
   "cell_type": "code",
   "execution_count": 37,
   "metadata": {},
   "outputs": [],
   "source": [
    "cmu: pd.DataFrame = pd.read_csv('datasets/cmu/DSL-StrongPasswordData.csv')\n",
    "cmu_training_df = cmu[cmu['sessionIndex'] == 1]\n",
    "cmu_test_df = cmu[cmu['sessionIndex'] != 1]\n",
    "drop_columns = ['subject', 'sessionIndex', 'rep']\n",
    "user_keys: set[str] = set(cmu[\"subject\"].drop_duplicates().tolist())"
   ]
  },
  {
   "cell_type": "code",
   "execution_count": 38,
   "metadata": {},
   "outputs": [],
   "source": [
    "def svm_acc(labels: list[int]) -> float:\n",
    "    positives, negatives = 0, 0\n",
    "    for l in labels:\n",
    "        if l > 0:\n",
    "            positives += 1\n",
    "        else:\n",
    "            negatives += 1\n",
    "    return positives / negatives"
   ]
  },
  {
   "cell_type": "code",
   "execution_count": 39,
   "metadata": {},
   "outputs": [],
   "source": [
    "# Divisão dos dados de treino e teste para cada usuário (80:20)\n",
    "\n",
    "X_training: dict[str, pd.DataFrame] = {}\n",
    "X_test: dict[str, pd.DataFrame] = {}\n",
    "y_training: dict[str, list[str]] = {}\n",
    "y_test: dict[str, list[str]] = {}\n",
    "\n",
    "for uk in user_keys:\n",
    "    X_training[uk] = cmu_training_df[cmu_training_df['subject'] == uk].drop(columns=drop_columns)\n",
    "    y_training[uk] = [uk] * X_training[uk].shape[0]\n",
    "    X_test[uk] = cmu_test_df[cmu_test_df['subject'] == uk].drop(columns=drop_columns)\n",
    "    y_test[uk] = [uk] * X_test[uk].shape[0]"
   ]
  },
  {
   "cell_type": "code",
   "execution_count": 40,
   "metadata": {},
   "outputs": [],
   "source": [
    "one_class_estimators_map: dict[str, OneClassSVM] = {}\n",
    "\n",
    "for uk in user_keys:\n",
    "    one_class_estimators_map[uk] = OneClassSVM().fit(X_training[uk], y_training[uk])"
   ]
  },
  {
   "cell_type": "code",
   "execution_count": 41,
   "metadata": {},
   "outputs": [
    {
     "name": "stdout",
     "output_type": "stream",
     "text": [
      "Acurácia dos modelos One-Vs-One: 0.16245203997199986\n"
     ]
    }
   ],
   "source": [
    "user_model_acc_on_genuine_samples_map: dict[str, float] = {}\n",
    "\n",
    "for uk in user_keys:\n",
    "    predictions = one_class_estimators_map[uk].predict(X_test[uk]).flatten().tolist()\n",
    "    user_model_acc_on_genuine_samples_map[uk] = svm_acc(predictions)\n",
    "\n",
    "average_acc = np.average(list(user_model_acc_on_genuine_samples_map.values()))\n",
    "\n",
    "print(f\"Acurácia dos modelos One-Vs-One: {average_acc}\")"
   ]
  },
  {
   "cell_type": "code",
   "execution_count": 42,
   "metadata": {},
   "outputs": [
    {
     "name": "stdout",
     "output_type": "stream",
     "text": [
      "FAR dos modelos One-Vs-One: 0.06828851098222574\n"
     ]
    }
   ],
   "source": [
    "# Ataques aos modelos One-Vs-One\n",
    "\n",
    "user_model_far_on_attack_samples_map: dict[str, float] = {}\n",
    "\n",
    "for uk in user_keys:\n",
    "    attack_vecs = cmu_test_df[cmu_test_df['subject'] != uk].drop(columns=drop_columns)\n",
    "    predictions = one_class_estimators_map[uk].predict(attack_vecs).flatten().tolist()\n",
    "    user_model_far_on_attack_samples_map[uk] = svm_acc(predictions)\n",
    "\n",
    "average_far = np.average(list(user_model_far_on_attack_samples_map.values()))\n",
    "\n",
    "print(f\"FAR dos modelos One-Vs-One: {average_far}\")"
   ]
  },
  {
   "cell_type": "code",
   "execution_count": 43,
   "metadata": {},
   "outputs": [],
   "source": [
    "# Criação de um modelo One-vs-Rest para cada usuário\n",
    "# Divisão dos dados: (80:20), sendo que em cada conjunto 50% dos dados são do \n",
    "# próprio usuário e 50% são registros aleatórios de outros usuários \n",
    "\n",
    "X_user_training: dict[str, pd.DataFrame] = {}\n",
    "X_user_test: dict[str, pd.DataFrame] = {}\n",
    "y_user_training: dict[str, list[str]] = {}\n",
    "y_user_test: dict[str, list[str]] = {}\n",
    "X_other_training: dict[str, pd.DataFrame] = {}\n",
    "X_other_test: dict[str, pd.DataFrame] = {}\n",
    "y_other_training: dict[str, list[str]] = {}\n",
    "y_other_test: dict[str, list[str]] = {}\n",
    "\n",
    "for uk in user_keys:\n",
    "    other_keys = user_keys - {uk}\n",
    "    X_other_training[uk] = cmu_training_df[(cmu_training_df['subject'] != uk) & (cmu_training_df['rep'] <= 5)].drop(columns=drop_columns) \n",
    "    X_user_training[uk] = cmu_training_df[cmu_training_df['subject'] == uk].drop(columns=drop_columns)\n",
    "    y_other_training[uk] = [IMPOSTOR_SUBJECT] * X_other_training[uk].shape[0]\n",
    "    y_user_training[uk] = [uk] * X_user_training[uk].shape[0]\n",
    "    X_user_test[uk] =  cmu_test_df[cmu_test_df['subject'] == uk].drop(columns=drop_columns)\n",
    "    X_other_test[uk] = cmu_test_df[cmu_test_df['subject'] != uk].drop(columns=drop_columns)\n",
    "    y_user_test[uk] = [uk] * X_user_test[uk].shape[0]\n",
    "    y_other_test[uk] = [IMPOSTOR_SUBJECT] * X_other_test[uk].shape[0]"
   ]
  },
  {
   "cell_type": "code",
   "execution_count": 44,
   "metadata": {},
   "outputs": [
    {
     "name": "stdout",
     "output_type": "stream",
     "text": [
      "Acurácia média dos modelos One-Vs-Rest: 0.7949563025210084\n"
     ]
    }
   ],
   "source": [
    "two_class_estimators_map: dict[str, RandomForestClassifier] = {}\n",
    "two_class_acc_map: dict[str, float] = {}\n",
    "\n",
    "for uk in user_keys:\n",
    "    X = pd.concat([X_user_training[uk], X_other_training[uk]])\n",
    "    y = y_user_training[uk] + y_other_training[uk]\n",
    "    two_class_estimators_map[uk] = RandomForestClassifier().fit(X, y)\n",
    "\n",
    "for uk in user_keys:\n",
    "    X_test = pd.concat([X_user_test[uk], X_other_test[uk]])\n",
    "    predictions = two_class_estimators_map[uk].predict(X_test)\n",
    "    y_true = y_user_test[uk] + y_other_test[uk]\n",
    "    two_class_acc_map[uk] = balanced_accuracy_score(y_true, predictions)\n",
    "\n",
    "average_acc = np.average(list(two_class_acc_map.values()))\n",
    "\n",
    "print(f\"Acurácia média dos modelos One-Vs-Rest: {average_acc}\")"
   ]
  }
 ],
 "metadata": {
  "kernelspec": {
   "display_name": "Python 3",
   "language": "python",
   "name": "python3"
  },
  "language_info": {
   "codemirror_mode": {
    "name": "ipython",
    "version": 3
   },
   "file_extension": ".py",
   "mimetype": "text/x-python",
   "name": "python",
   "nbconvert_exporter": "python",
   "pygments_lexer": "ipython3",
   "version": "3.12.7"
  }
 },
 "nbformat": 4,
 "nbformat_minor": 2
}
