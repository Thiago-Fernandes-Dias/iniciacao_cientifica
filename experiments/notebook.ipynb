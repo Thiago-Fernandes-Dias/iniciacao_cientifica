{
 "cells": [
  {
   "cell_type": "code",
   "execution_count": null,
   "metadata": {},
   "outputs": [],
   "source": [
    "import pandas as pd\n",
    "import numpy as np\n",
    "\n",
    "from sklearn.ensemble import RandomForestClassifier\n",
    "from sklearn.model_selection import train_test_split\n",
    "from sklearn.metrics import accuracy_score"
   ]
  },
  {
   "cell_type": "code",
   "execution_count": 298,
   "metadata": {},
   "outputs": [],
   "source": [
    "TEST_SIZE = 0.2\n",
    "IMPOSTOR_SUBJECT = 'other'"
   ]
  },
  {
   "cell_type": "code",
   "execution_count": 299,
   "metadata": {},
   "outputs": [],
   "source": [
    "cmu = pd.read_csv('datasets/cmu/DSL-StrongPasswordData.csv')\n",
    "drop_columns = ['subject', 'sessionIndex', 'rep']\n",
    "user_keys = cmu[\"subject\"].drop_duplicates().tolist()"
   ]
  },
  {
   "cell_type": "code",
   "execution_count": 300,
   "metadata": {},
   "outputs": [],
   "source": [
    "# Divisão dos dados de treino e teste para cada usuário (80:20)\n",
    "user = 's002'\n",
    "\n",
    "X1_training, X1_test, y1_training, y1_test = {}, {}, {}, {}\n",
    "\n",
    "for uk in user_keys:\n",
    "    X = cmu[cmu['subject'] == uk].drop(columns=drop_columns)\n",
    "    y = [uk] * len(X)\n",
    "    X1_training[uk], X1_test[uk], y1_training[uk], y1_test[uk] = train_test_split(X, y, test_size=TEST_SIZE, shuffle=False)"
   ]
  },
  {
   "cell_type": "code",
   "execution_count": 301,
   "metadata": {},
   "outputs": [],
   "source": [
    "one_class_estimators_map = {}\n",
    "\n",
    "for uk in user_keys:\n",
    "    one_class_estimators_map[uk] = RandomForestClassifier().fit(X1_training[uk], y1_training[uk])"
   ]
  },
  {
   "cell_type": "code",
   "execution_count": 302,
   "metadata": {},
   "outputs": [
    {
     "name": "stdout",
     "output_type": "stream",
     "text": [
      "Acurácia média dos modelos One-Vs-One: 100.0%\n"
     ]
    }
   ],
   "source": [
    "user_model_acc_on_genuine_samples_map = {}\n",
    "\n",
    "for uk in user_keys:\n",
    "    predictions = one_class_estimators_map[uk].predict(X1_test[uk])\n",
    "    user_model_acc_on_genuine_samples_map[uk] = accuracy_score(y1_test[uk], predictions)\n",
    "\n",
    "average_acc = np.average(list(user_model_acc_on_genuine_samples_map.values())) * 100\n",
    "\n",
    "print(f\"Acurácia média dos modelos One-Vs-One: {average_acc}%\")"
   ]
  },
  {
   "cell_type": "code",
   "execution_count": 303,
   "metadata": {},
   "outputs": [],
   "source": [
    "# Criação de um modelo One-vs-Rest para cada usuário\n",
    "# Divisão dos dados: (80:20), sendo que em cada conjunto 50% dos dados são do \n",
    "# próprio usuário e 50% são registros aleatórios de outros usuários \n",
    "\n",
    "X_user_training, X_other_training = {}, {}\n",
    "y_user_training, y_other_training = {}, {}\n",
    "X_user_test, X_other_test = {}, {},\n",
    "y_user_test, y_other_test = {}, {}\n",
    "\n",
    "for uk in user_keys:\n",
    "    X_user = cmu[cmu['subject'] == uk].drop(columns=drop_columns)    \n",
    "    y_user = [uk] * len(X_user)\n",
    "    X_other = cmu[cmu['subject'] != uk].sample(n=len(X_user))\n",
    "    y_other = [IMPOSTOR_SUBJECT] * len(X_other)\n",
    "    X_user_training[uk], X_user_test[uk] = train_test_split(X_user, test_size=TEST_SIZE)\n",
    "    y_user_training[uk], y_user_test[uk] = train_test_split(y_user, test_size=TEST_SIZE)\n",
    "    X_other_training[uk], X_other_test[uk] = train_test_split(X_other.drop(columns=drop_columns), test_size=TEST_SIZE)\n",
    "    y_other_training[uk], y_other_test[uk] = train_test_split(y_other, test_size=TEST_SIZE)"
   ]
  },
  {
   "cell_type": "code",
   "execution_count": 304,
   "metadata": {},
   "outputs": [
    {
     "name": "stdout",
     "output_type": "stream",
     "text": [
      "Acurácia média dos modelos One-Vs-Rest: 0.5\n"
     ]
    }
   ],
   "source": [
    "two_class_estimators_map = {}\n",
    "two_class_acc_map = {}\n",
    "\n",
    "for uk in user_keys:\n",
    "    X = X_user_training[uk] + X_other_training[uk]\n",
    "    y = y_user_training[uk] + y_other_training[uk]\n",
    "    two_class_estimators_map[uk] = RandomForestClassifier().fit(X, y)\n",
    "\n",
    "for uk in user_keys:\n",
    "    X_test = X_user_test[uk] + X_other_test[uk]\n",
    "    predictions = two_class_estimators_map[uk].predict(X_test)\n",
    "    y_true = y_user_test[uk] + y_other_test[uk]\n",
    "    two_class_acc_map[uk] = accuracy_score(y_true, predictions)\n",
    "\n",
    "print(f\"Acurácia média dos modelos One-Vs-Rest: {np.average(list(two_class_acc_map.values()))}\")"
   ]
  }
 ],
 "metadata": {
  "kernelspec": {
   "display_name": "Python 3",
   "language": "python",
   "name": "python3"
  },
  "language_info": {
   "codemirror_mode": {
    "name": "ipython",
    "version": 3
   },
   "file_extension": ".py",
   "mimetype": "text/x-python",
   "name": "python",
   "nbconvert_exporter": "python",
   "pygments_lexer": "ipython3",
   "version": "3.12.7"
  }
 },
 "nbformat": 4,
 "nbformat_minor": 2
}
